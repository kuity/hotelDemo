{
 "cells": [
  {
   "cell_type": "code",
   "execution_count": 46,
   "id": "ad1e91e6-4f96-4d8e-8cb2-21e883c18c77",
   "metadata": {},
   "outputs": [],
   "source": [
    "pd.set_option('display.max_colwidth', None)"
   ]
  },
  {
   "cell_type": "code",
   "execution_count": 8,
   "id": "5ee096f9-863b-4297-af90-ae5710212882",
   "metadata": {},
   "outputs": [],
   "source": [
    "import requests\n",
    "import json\n",
    "import pandas as pd"
   ]
  },
  {
   "cell_type": "code",
   "execution_count": 16,
   "id": "f95606b2-3ca4-4a63-82a4-db2c1ce55909",
   "metadata": {},
   "outputs": [],
   "source": []
  },
  {
   "cell_type": "code",
   "execution_count": null,
   "id": "6a4ed8d4-0707-4e7f-9e05-82fa8ecea4db",
   "metadata": {},
   "outputs": [],
   "source": []
  },
  {
   "cell_type": "code",
   "execution_count": 20,
   "id": "983d23c0-fc5f-42b4-9263-0d6f916f9614",
   "metadata": {},
   "outputs": [],
   "source": [
    "final_columns = [\"hotel_id\", \"destination_id\", \"hotel_name\", \"latitude\", \"longitude\", \"address\", \"city\", \"country\", \"postal_code\", \"description\", \"amenities\", \"images\", \"booking_conditions\"]"
   ]
  },
  {
   "cell_type": "code",
   "execution_count": 21,
   "id": "71cf01a6-3cc3-4f60-9c08-1d2d1225c3fc",
   "metadata": {},
   "outputs": [
    {
     "data": {
      "text/plain": [
       "['hotel_id',\n",
       " 'destination_id',\n",
       " 'hotel_name',\n",
       " 'latitude',\n",
       " 'longitude',\n",
       " 'address',\n",
       " 'city',\n",
       " 'country',\n",
       " 'postal_code',\n",
       " 'description',\n",
       " 'amenities',\n",
       " 'images',\n",
       " 'booking_conditions']"
      ]
     },
     "execution_count": 21,
     "metadata": {},
     "output_type": "execute_result"
    }
   ],
   "source": [
    "final_columns"
   ]
  },
  {
   "cell_type": "code",
   "execution_count": 170,
   "id": "84844156-0073-468a-9b0d-9d47b76a7355",
   "metadata": {},
   "outputs": [],
   "source": [
    "amenity_list = {\n",
    "    'general': [\n",
    "        'pool',\n",
    "        'businesscenter',\n",
    "        'breakfast',\n",
    "        'bar',\n",
    "        'drycleaning',\n",
    "        'dry cleaning',\n",
    "        'business center',\n",
    "        'indoor pool',\n",
    "        'outdoor pool',\n",
    "        'parking',\n",
    "        'concierge',\n",
    "        'childcare',\n",
    "        'wifi'\n",
    "    ]\n",
    "}"
   ]
  },
  {
   "cell_type": "code",
   "execution_count": 194,
   "id": "60951518-1d5f-4ae7-8250-4b7f6dacb485",
   "metadata": {},
   "outputs": [],
   "source": [
    "def cleanAmenities(A):    \n",
    "    D = {'general': [], 'room': []}\n",
    "    if A is None:\n",
    "        return D\n",
    "    A = [x.lower().strip() for x in A]\n",
    "    for a in A:\n",
    "        if a in amenity_list['general']:\n",
    "            D['general'].append(a)\n",
    "        else:\n",
    "            D['room'].append(a)\n",
    "    return D"
   ]
  },
  {
   "cell_type": "code",
   "execution_count": 204,
   "id": "4fc79313-559b-4214-87f3-6cf258c759dc",
   "metadata": {},
   "outputs": [],
   "source": [
    "def renameDictKey(d, old_key, new_key):\n",
    "    if old_key in d:\n",
    "        d[new_key] = d.pop(old_key)\n",
    "    return d\n",
    "def cleanImages(images):\n",
    "    for k in ['rooms', 'site', 'amenities']:\n",
    "        replacement = []\n",
    "        if k not in images.keys():\n",
    "            continue\n",
    "        for elem in images[k]:\n",
    "            keys = elem.keys();\n",
    "            if (\"url\" in keys):\n",
    "                renameDictKey(elem, \"url\", \"link\")\n",
    "            if (\"caption\" in keys): \n",
    "                renameDictKey(elem, \"caption\", \"description\")\n",
    "    return images"
   ]
  },
  {
   "cell_type": "code",
   "execution_count": null,
   "id": "a38aeff4-4379-4f7b-b274-f7e79ee81f58",
   "metadata": {},
   "outputs": [],
   "source": []
  },
  {
   "cell_type": "code",
   "execution_count": null,
   "id": "20676327-b059-4546-9e38-5e412940ace4",
   "metadata": {},
   "outputs": [],
   "source": []
  },
  {
   "cell_type": "code",
   "execution_count": 205,
   "id": "af658e8c-b5b8-4759-ba9f-d81c12f611c6",
   "metadata": {},
   "outputs": [
    {
     "data": {
      "text/plain": [
       "0    1.264751\n",
       "1         NaN\n",
       "2         NaN\n",
       "Name: longitude, dtype: float64"
      ]
     },
     "execution_count": 205,
     "metadata": {},
     "output_type": "execute_result"
    }
   ],
   "source": [
    "# URL to be accessed\n",
    "url = \"https://5f2be0b4ffc88500167b85a0.mockapi.io/suppliers/acme\"\n",
    "\n",
    "# Make the request\n",
    "response = requests.get(url)\n",
    "\n",
    "# Check if the request was successful\n",
    "# if response.status_code == 200:\n",
    "#     # Parse the JSON response\n",
    "#     data = response.json()\n",
    "#     print(json.dumps(data, indent=4))  # Pretty-print the JSON data\n",
    "# else:\n",
    "#     print(f\"Failed to retrieve data: {response.status_code}\")\n",
    "data = response.json()\n",
    "df = pd.DataFrame(data)\n",
    "df.columns = [\"hotel_id\", \"destination_id\", \"hotel_name\", \"latitude\", \"longitude\", \"address\", \"city\", \"country\", \"postal_code\", \"description\", \"amenities\"]\n",
    "df['latitude'] = pd.to_numeric(df['latitude'], errors='coerce')\n",
    "df[\"latitude\"] = df[\"latitude\"].astype(float)\n",
    "df[\"latitude\"]\n",
    "df['longitude'] = pd.to_numeric(df['latitude'], errors='coerce')\n",
    "df[\"longitude\"] = df[\"latitude\"].astype(float)\n",
    "df[\"longitude\"]"
   ]
  },
  {
   "cell_type": "code",
   "execution_count": 206,
   "id": "7cc30edb-0a85-4f04-828f-5800cf4ee261",
   "metadata": {},
   "outputs": [],
   "source": [
    "df.amenities = df.amenities.apply(cleanAmenities)"
   ]
  },
  {
   "cell_type": "code",
   "execution_count": 207,
   "id": "56386ded-5c2e-4666-afa0-3702d8c5b396",
   "metadata": {},
   "outputs": [
    {
     "data": {
      "text/plain": [
       "hotel_id           object\n",
       "destination_id      int64\n",
       "hotel_name         object\n",
       "latitude          float64\n",
       "longitude         float64\n",
       "address            object\n",
       "city               object\n",
       "country            object\n",
       "postal_code        object\n",
       "description        object\n",
       "amenities          object\n",
       "dtype: object"
      ]
     },
     "execution_count": 207,
     "metadata": {},
     "output_type": "execute_result"
    }
   ],
   "source": [
    "df.dtypes"
   ]
  },
  {
   "cell_type": "code",
   "execution_count": 208,
   "id": "7d24db1a-d40b-41c9-87fe-3040a8c5179d",
   "metadata": {},
   "outputs": [
    {
     "data": {
      "text/html": [
       "<div>\n",
       "<style scoped>\n",
       "    .dataframe tbody tr th:only-of-type {\n",
       "        vertical-align: middle;\n",
       "    }\n",
       "\n",
       "    .dataframe tbody tr th {\n",
       "        vertical-align: top;\n",
       "    }\n",
       "\n",
       "    .dataframe thead th {\n",
       "        text-align: right;\n",
       "    }\n",
       "</style>\n",
       "<table border=\"1\" class=\"dataframe\">\n",
       "  <thead>\n",
       "    <tr style=\"text-align: right;\">\n",
       "      <th></th>\n",
       "      <th>hotel_id</th>\n",
       "      <th>destination_id</th>\n",
       "      <th>hotel_name</th>\n",
       "      <th>latitude</th>\n",
       "      <th>longitude</th>\n",
       "      <th>address</th>\n",
       "      <th>city</th>\n",
       "      <th>country</th>\n",
       "      <th>postal_code</th>\n",
       "      <th>description</th>\n",
       "      <th>amenities</th>\n",
       "    </tr>\n",
       "  </thead>\n",
       "  <tbody>\n",
       "    <tr>\n",
       "      <th>0</th>\n",
       "      <td>iJhz</td>\n",
       "      <td>5432</td>\n",
       "      <td>Beach Villas Singapore</td>\n",
       "      <td>1.264751</td>\n",
       "      <td>1.264751</td>\n",
       "      <td>8 Sentosa Gateway, Beach Villas</td>\n",
       "      <td>Singapore</td>\n",
       "      <td>SG</td>\n",
       "      <td>098269</td>\n",
       "      <td>This 5 star hotel is located on the coastline of Singapore.</td>\n",
       "      <td>{'general': ['pool', 'businesscenter', 'wifi', 'drycleaning', 'breakfast'], 'room': []}</td>\n",
       "    </tr>\n",
       "    <tr>\n",
       "      <th>1</th>\n",
       "      <td>SjyX</td>\n",
       "      <td>5432</td>\n",
       "      <td>InterContinental Singapore Robertson Quay</td>\n",
       "      <td>NaN</td>\n",
       "      <td>NaN</td>\n",
       "      <td>1 Nanson Road</td>\n",
       "      <td>Singapore</td>\n",
       "      <td>SG</td>\n",
       "      <td>238909</td>\n",
       "      <td>Enjoy sophisticated waterfront living at the new InterContinental® Singapore Robertson Quay, luxury's preferred address nestled in the heart of Robertson Quay along the Singapore River, with the CBD just five minutes drive away. Magnifying the comforts of home, each of our 225 studios and suites features a host of thoughtful amenities that combine modernity with elegance, whilst maintaining functional practicality. The hotel also features a chic, luxurious Club InterContinental Lounge.</td>\n",
       "      <td>{'general': ['pool', 'wifi', 'businesscenter', 'breakfast', 'drycleaning', 'bar'], 'room': ['aircon', 'bathtub']}</td>\n",
       "    </tr>\n",
       "    <tr>\n",
       "      <th>2</th>\n",
       "      <td>f8c9</td>\n",
       "      <td>1122</td>\n",
       "      <td>Hilton Shinjuku Tokyo</td>\n",
       "      <td>NaN</td>\n",
       "      <td>NaN</td>\n",
       "      <td>160-0023, SHINJUKU-KU, 6-6-2 NISHI-SHINJUKU, JAPAN</td>\n",
       "      <td>Tokyo</td>\n",
       "      <td>JP</td>\n",
       "      <td>160-0023</td>\n",
       "      <td>Hilton Tokyo is located in Shinjuku, the heart of Tokyo's business, shopping and entertainment district, and is an ideal place to experience modern Japan. A complimentary shuttle operates between the hotel and Shinjuku station and the Tokyo Metro subway is connected to the hotel. Relax in one of the modern Japanese-style rooms and admire stunning city views. The hotel offers WiFi and internet access throughout all rooms and public space.</td>\n",
       "      <td>{'general': ['pool', 'wifi', 'businesscenter', 'drycleaning', 'breakfast', 'bar'], 'room': ['bathtub']}</td>\n",
       "    </tr>\n",
       "  </tbody>\n",
       "</table>\n",
       "</div>"
      ],
      "text/plain": [
       "  hotel_id  destination_id                                 hotel_name  \\\n",
       "0     iJhz            5432                     Beach Villas Singapore   \n",
       "1     SjyX            5432  InterContinental Singapore Robertson Quay   \n",
       "2     f8c9            1122                      Hilton Shinjuku Tokyo   \n",
       "\n",
       "   latitude  longitude                                             address  \\\n",
       "0  1.264751   1.264751                    8 Sentosa Gateway, Beach Villas    \n",
       "1       NaN        NaN                                       1 Nanson Road   \n",
       "2       NaN        NaN  160-0023, SHINJUKU-KU, 6-6-2 NISHI-SHINJUKU, JAPAN   \n",
       "\n",
       "        city country postal_code  \\\n",
       "0  Singapore      SG      098269   \n",
       "1  Singapore      SG      238909   \n",
       "2      Tokyo      JP    160-0023   \n",
       "\n",
       "                                                                                                                                                                                                                                                                                                                                                                                                                                                                                                  description  \\\n",
       "0                                                                                                                                                                                                                                                                                                                                                                                                                                                 This 5 star hotel is located on the coastline of Singapore.   \n",
       "1  Enjoy sophisticated waterfront living at the new InterContinental® Singapore Robertson Quay, luxury's preferred address nestled in the heart of Robertson Quay along the Singapore River, with the CBD just five minutes drive away. Magnifying the comforts of home, each of our 225 studios and suites features a host of thoughtful amenities that combine modernity with elegance, whilst maintaining functional practicality. The hotel also features a chic, luxurious Club InterContinental Lounge.   \n",
       "2                                                   Hilton Tokyo is located in Shinjuku, the heart of Tokyo's business, shopping and entertainment district, and is an ideal place to experience modern Japan. A complimentary shuttle operates between the hotel and Shinjuku station and the Tokyo Metro subway is connected to the hotel. Relax in one of the modern Japanese-style rooms and admire stunning city views. The hotel offers WiFi and internet access throughout all rooms and public space.   \n",
       "\n",
       "                                                                                                           amenities  \n",
       "0                            {'general': ['pool', 'businesscenter', 'wifi', 'drycleaning', 'breakfast'], 'room': []}  \n",
       "1  {'general': ['pool', 'wifi', 'businesscenter', 'breakfast', 'drycleaning', 'bar'], 'room': ['aircon', 'bathtub']}  \n",
       "2            {'general': ['pool', 'wifi', 'businesscenter', 'drycleaning', 'breakfast', 'bar'], 'room': ['bathtub']}  "
      ]
     },
     "execution_count": 208,
     "metadata": {},
     "output_type": "execute_result"
    }
   ],
   "source": [
    "df.head()"
   ]
  },
  {
   "cell_type": "code",
   "execution_count": null,
   "id": "2f86bb68-1144-4686-8914-38b7f60d264a",
   "metadata": {},
   "outputs": [],
   "source": []
  },
  {
   "cell_type": "code",
   "execution_count": null,
   "id": "d070ab56-ea97-4c2e-babf-98c1919d29ef",
   "metadata": {},
   "outputs": [],
   "source": []
  },
  {
   "cell_type": "code",
   "execution_count": null,
   "id": "6869e351-fb74-41d0-943f-46f693c83ddc",
   "metadata": {},
   "outputs": [],
   "source": []
  },
  {
   "cell_type": "code",
   "execution_count": null,
   "id": "febefc1b-f39d-49e6-81aa-674dd5586db2",
   "metadata": {},
   "outputs": [],
   "source": []
  },
  {
   "cell_type": "code",
   "execution_count": 209,
   "id": "36c5a55c-05d9-403d-9dba-0c9b08751b0b",
   "metadata": {},
   "outputs": [],
   "source": [
    "# URL to be accessed\n",
    "url = \"https://5f2be0b4ffc88500167b85a0.mockapi.io/suppliers/patagonia\"\n",
    "\n",
    "# Make the request\n",
    "response = requests.get(url)\n",
    "\n",
    "if response.status_code != 200:\n",
    "    print(\"failure to ingest data\")\n",
    "    exit()\n",
    "    \n",
    "data = response.json()\n",
    "df2 = pd.DataFrame(data)\n",
    "df2.columns = [\"hotel_id\", \"destination_id\", \"hotel_name\", \"latitude\", \"longitude\", \"address\", \"description\", \"amenities\", \"images\"]"
   ]
  },
  {
   "cell_type": "code",
   "execution_count": 210,
   "id": "86842fef-7992-44d8-9181-a1a488834df7",
   "metadata": {},
   "outputs": [],
   "source": [
    "df2.amenities = df2.amenities.apply(cleanAmenities)"
   ]
  },
  {
   "cell_type": "code",
   "execution_count": 211,
   "id": "564b3bd0-06f6-40cd-9f0f-946f4c0621bb",
   "metadata": {},
   "outputs": [],
   "source": [
    "df2.images = df2.images.apply(cleanImages)"
   ]
  },
  {
   "cell_type": "code",
   "execution_count": 212,
   "id": "afdb2058-b15a-4514-aed2-7bf8acee1f85",
   "metadata": {},
   "outputs": [
    {
     "data": {
      "text/html": [
       "<div>\n",
       "<style scoped>\n",
       "    .dataframe tbody tr th:only-of-type {\n",
       "        vertical-align: middle;\n",
       "    }\n",
       "\n",
       "    .dataframe tbody tr th {\n",
       "        vertical-align: top;\n",
       "    }\n",
       "\n",
       "    .dataframe thead th {\n",
       "        text-align: right;\n",
       "    }\n",
       "</style>\n",
       "<table border=\"1\" class=\"dataframe\">\n",
       "  <thead>\n",
       "    <tr style=\"text-align: right;\">\n",
       "      <th></th>\n",
       "      <th>hotel_id</th>\n",
       "      <th>destination_id</th>\n",
       "      <th>hotel_name</th>\n",
       "      <th>latitude</th>\n",
       "      <th>longitude</th>\n",
       "      <th>address</th>\n",
       "      <th>description</th>\n",
       "      <th>amenities</th>\n",
       "      <th>images</th>\n",
       "    </tr>\n",
       "  </thead>\n",
       "  <tbody>\n",
       "    <tr>\n",
       "      <th>0</th>\n",
       "      <td>iJhz</td>\n",
       "      <td>5432</td>\n",
       "      <td>Beach Villas Singapore</td>\n",
       "      <td>1.264751</td>\n",
       "      <td>103.824006</td>\n",
       "      <td>8 Sentosa Gateway, Beach Villas, 098269</td>\n",
       "      <td>Located at the western tip of Resorts World Sentosa, guests at the Beach Villas are guaranteed privacy while they enjoy spectacular views of glittering waters. Guests will find themselves in paradise with this series of exquisite tropical sanctuaries, making it the perfect setting for an idyllic retreat. Within each villa, guests will discover living areas and bedrooms that open out to mini gardens, private timber sundecks and verandahs elegantly framing either lush greenery or an expanse of sea. Guests are assured of a superior slumber with goose feather pillows and luxe mattresses paired with 400 thread count Egyptian cotton bed linen, tastefully paired with a full complement of luxurious in-room amenities and bathrooms boasting rain showers and free-standing tubs coupled with an exclusive array of ESPA amenities and toiletries. Guests also get to enjoy complimentary day access to the facilities at Asia’s flagship spa – the world-renowned ESPA.</td>\n",
       "      <td>{'general': [], 'room': ['aircon', 'tv', 'coffee machine', 'kettle', 'hair dryer', 'iron', 'tub']}</td>\n",
       "      <td>{'rooms': [{'description': 'Double room', 'link': 'https://d2ey9sqrvkqdfs.cloudfront.net/0qZF/2.jpg'}, {'description': 'Bathroom', 'link': 'https://d2ey9sqrvkqdfs.cloudfront.net/0qZF/4.jpg'}], 'amenities': [{'description': 'RWS', 'link': 'https://d2ey9sqrvkqdfs.cloudfront.net/0qZF/0.jpg'}, {'description': 'Sentosa Gateway', 'link': 'https://d2ey9sqrvkqdfs.cloudfront.net/0qZF/6.jpg'}]}</td>\n",
       "    </tr>\n",
       "    <tr>\n",
       "      <th>1</th>\n",
       "      <td>f8c9</td>\n",
       "      <td>1122</td>\n",
       "      <td>Hilton Tokyo Shinjuku</td>\n",
       "      <td>35.692600</td>\n",
       "      <td>139.690965</td>\n",
       "      <td>None</td>\n",
       "      <td>None</td>\n",
       "      <td>{'general': [], 'room': []}</td>\n",
       "      <td>{'rooms': [{'description': 'Suite', 'link': 'https://d2ey9sqrvkqdfs.cloudfront.net/YwAr/i10_m.jpg'}, {'description': 'Suite - Living room', 'link': 'https://d2ey9sqrvkqdfs.cloudfront.net/YwAr/i11_m.jpg'}], 'amenities': [{'description': 'Bar', 'link': 'https://d2ey9sqrvkqdfs.cloudfront.net/YwAr/i57_m.jpg'}]}</td>\n",
       "    </tr>\n",
       "  </tbody>\n",
       "</table>\n",
       "</div>"
      ],
      "text/plain": [
       "  hotel_id  destination_id              hotel_name   latitude   longitude  \\\n",
       "0     iJhz            5432  Beach Villas Singapore   1.264751  103.824006   \n",
       "1     f8c9            1122   Hilton Tokyo Shinjuku  35.692600  139.690965   \n",
       "\n",
       "                                   address  \\\n",
       "0  8 Sentosa Gateway, Beach Villas, 098269   \n",
       "1                                     None   \n",
       "\n",
       "                                                                                                                                                                                                                                                                                                                                                                                                                                                                                                                                                                                                                                                                                                                                                                                                                                                                                                                                                                                        description  \\\n",
       "0  Located at the western tip of Resorts World Sentosa, guests at the Beach Villas are guaranteed privacy while they enjoy spectacular views of glittering waters. Guests will find themselves in paradise with this series of exquisite tropical sanctuaries, making it the perfect setting for an idyllic retreat. Within each villa, guests will discover living areas and bedrooms that open out to mini gardens, private timber sundecks and verandahs elegantly framing either lush greenery or an expanse of sea. Guests are assured of a superior slumber with goose feather pillows and luxe mattresses paired with 400 thread count Egyptian cotton bed linen, tastefully paired with a full complement of luxurious in-room amenities and bathrooms boasting rain showers and free-standing tubs coupled with an exclusive array of ESPA amenities and toiletries. Guests also get to enjoy complimentary day access to the facilities at Asia’s flagship spa – the world-renowned ESPA.   \n",
       "1                                                                                                                                                                                                                                                                                                                                                                                                                                                                                                                                                                                                                                                                                                                                                                                                                                                                                                                                                                                              None   \n",
       "\n",
       "                                                                                            amenities  \\\n",
       "0  {'general': [], 'room': ['aircon', 'tv', 'coffee machine', 'kettle', 'hair dryer', 'iron', 'tub']}   \n",
       "1                                                                         {'general': [], 'room': []}   \n",
       "\n",
       "                                                                                                                                                                                                                                                                                                                                                                                                images  \n",
       "0  {'rooms': [{'description': 'Double room', 'link': 'https://d2ey9sqrvkqdfs.cloudfront.net/0qZF/2.jpg'}, {'description': 'Bathroom', 'link': 'https://d2ey9sqrvkqdfs.cloudfront.net/0qZF/4.jpg'}], 'amenities': [{'description': 'RWS', 'link': 'https://d2ey9sqrvkqdfs.cloudfront.net/0qZF/0.jpg'}, {'description': 'Sentosa Gateway', 'link': 'https://d2ey9sqrvkqdfs.cloudfront.net/0qZF/6.jpg'}]}  \n",
       "1                                                                                 {'rooms': [{'description': 'Suite', 'link': 'https://d2ey9sqrvkqdfs.cloudfront.net/YwAr/i10_m.jpg'}, {'description': 'Suite - Living room', 'link': 'https://d2ey9sqrvkqdfs.cloudfront.net/YwAr/i11_m.jpg'}], 'amenities': [{'description': 'Bar', 'link': 'https://d2ey9sqrvkqdfs.cloudfront.net/YwAr/i57_m.jpg'}]}  "
      ]
     },
     "execution_count": 212,
     "metadata": {},
     "output_type": "execute_result"
    }
   ],
   "source": [
    "df2"
   ]
  },
  {
   "cell_type": "code",
   "execution_count": null,
   "id": "c12b4262-dac8-4c23-b430-44e5a2c7780b",
   "metadata": {},
   "outputs": [],
   "source": []
  },
  {
   "cell_type": "code",
   "execution_count": null,
   "id": "6cdca230-71c8-4938-b1a6-e0b23e3d3507",
   "metadata": {},
   "outputs": [],
   "source": []
  },
  {
   "cell_type": "code",
   "execution_count": null,
   "id": "a9701a19-222b-4081-9897-612278905c15",
   "metadata": {},
   "outputs": [],
   "source": []
  },
  {
   "cell_type": "code",
   "execution_count": null,
   "id": "3c13b4cc-568f-40b2-93fb-2ca096fedff7",
   "metadata": {},
   "outputs": [],
   "source": []
  },
  {
   "cell_type": "code",
   "execution_count": 215,
   "id": "57025869-92f1-4cb3-96ad-75b01a756586",
   "metadata": {},
   "outputs": [],
   "source": [
    "# URL to be accessed\n",
    "url = \"https://5f2be0b4ffc88500167b85a0.mockapi.io/suppliers/paperflies\"\n",
    "\n",
    "# Make the request\n",
    "response = requests.get(url)\n",
    "\n",
    "if response.status_code != 200:\n",
    "    print(\"failure to ingest data\")\n",
    "    exit()\n",
    "    \n",
    "data = response.json()\n",
    "df3 = pd.DataFrame(data)\n",
    "df3.columns = [\"hotel_id\", \"destination_id\", \"hotel_name\", \"location\", \"description\", \"amenities\", \"images\", \"booking_conditions\"]\n",
    "df3['address'] = df3.location.apply(lambda x: x['address'])\n",
    "df3['country'] = df3.location.apply(lambda x: x['country'])\n",
    "df3.images = df3.images.apply(cleanImages)"
   ]
  },
  {
   "cell_type": "code",
   "execution_count": 216,
   "id": "fe23c1d6-0931-4934-b3b0-9571721ebe62",
   "metadata": {},
   "outputs": [
    {
     "data": {
      "text/html": [
       "<div>\n",
       "<style scoped>\n",
       "    .dataframe tbody tr th:only-of-type {\n",
       "        vertical-align: middle;\n",
       "    }\n",
       "\n",
       "    .dataframe tbody tr th {\n",
       "        vertical-align: top;\n",
       "    }\n",
       "\n",
       "    .dataframe thead th {\n",
       "        text-align: right;\n",
       "    }\n",
       "</style>\n",
       "<table border=\"1\" class=\"dataframe\">\n",
       "  <thead>\n",
       "    <tr style=\"text-align: right;\">\n",
       "      <th></th>\n",
       "      <th>hotel_id</th>\n",
       "      <th>destination_id</th>\n",
       "      <th>hotel_name</th>\n",
       "      <th>location</th>\n",
       "      <th>description</th>\n",
       "      <th>amenities</th>\n",
       "      <th>images</th>\n",
       "      <th>booking_conditions</th>\n",
       "      <th>address</th>\n",
       "      <th>country</th>\n",
       "    </tr>\n",
       "  </thead>\n",
       "  <tbody>\n",
       "    <tr>\n",
       "      <th>0</th>\n",
       "      <td>iJhz</td>\n",
       "      <td>5432</td>\n",
       "      <td>Beach Villas Singapore</td>\n",
       "      <td>{'address': '8 Sentosa Gateway, Beach Villas, 098269', 'country': 'Singapore'}</td>\n",
       "      <td>Surrounded by tropical gardens, these upscale villas in elegant Colonial-style buildings are part of the Resorts World Sentosa complex and a 2-minute walk from the Waterfront train station. Featuring sundecks and pool, garden or sea views, the plush 1- to 3-bedroom villas offer free Wi-Fi and flat-screens, as well as free-standing baths, minibars, and tea and coffeemaking facilities. Upgraded villas add private pools, fridges and microwaves; some have wine cellars. A 4-bedroom unit offers a kitchen and a living room. There's 24-hour room and butler service. Amenities include posh restaurant, plus an outdoor pool, a hot tub, and free parking.</td>\n",
       "      <td>{'general': ['outdoor pool', 'indoor pool', 'business center', 'childcare'], 'room': ['tv', 'coffee machine', 'kettle', 'hair dryer', 'iron']}</td>\n",
       "      <td>{'rooms': [{'link': 'https://d2ey9sqrvkqdfs.cloudfront.net/0qZF/2.jpg', 'description': 'Double room'}, {'link': 'https://d2ey9sqrvkqdfs.cloudfront.net/0qZF/3.jpg', 'description': 'Double room'}], 'site': [{'link': 'https://d2ey9sqrvkqdfs.cloudfront.net/0qZF/1.jpg', 'description': 'Front'}]}</td>\n",
       "      <td>[All children are welcome. One child under 12 years stays free of charge when using existing beds. One child under 2 years stays free of charge in a child's cot/crib. One child under 4 years stays free of charge when using existing beds. One older child or adult is charged SGD 82.39 per person per night in an extra bed. The maximum number of children's cots/cribs in a room is 1. There is no capacity for extra beds in the room., Pets are not allowed., WiFi is available in all areas and is free of charge., Free private parking is possible on site (reservation is not needed)., Guests are required to show a photo identification and credit card upon check-in. Please note that all Special Requests are subject to availability and additional charges may apply. Payment before arrival via bank transfer is required. The property will contact you after you book to provide instructions. Please note that the full amount of the reservation is due before arrival. Resorts World Sentosa will send a confirmation with detailed payment information. After full payment is taken, the property's details, including the address and where to collect keys, will be emailed to you. Bag checks will be conducted prior to entry to Adventure Cove Waterpark. === Upon check-in, guests will be provided with complimentary Sentosa Pass (monorail) to enjoy unlimited transportation between Sentosa Island and Harbour Front (VivoCity). === Prepayment for non refundable bookings will be charged by RWS Call Centre. === All guests can enjoy complimentary parking during their stay, limited to one exit from the hotel per day. === Room reservation charges will be charged upon check-in. Credit card provided upon reservation is for guarantee purpose. === For reservations made with inclusive breakfast, please note that breakfast is applicable only for number of adults paid in the room rate. Any children or additional adults are charged separately for breakfast and are to paid directly to the hotel.]</td>\n",
       "      <td>8 Sentosa Gateway, Beach Villas, 098269</td>\n",
       "      <td>Singapore</td>\n",
       "    </tr>\n",
       "    <tr>\n",
       "      <th>1</th>\n",
       "      <td>SjyX</td>\n",
       "      <td>5432</td>\n",
       "      <td>InterContinental</td>\n",
       "      <td>{'address': '1 Nanson Rd, Singapore 238909', 'country': 'Singapore'}</td>\n",
       "      <td>InterContinental Singapore Robertson Quay is luxury's preferred address offering stylishly cosmopolitan riverside living for discerning travelers to Singapore. Prominently situated along the Singapore River, the 225-room inspiring luxury hotel is easily accessible to the Marina Bay Financial District, Central Business District, Orchard Road and Singapore Changi International Airport, all located a short drive away. The hotel features the latest in Club InterContinental design and service experience, and five dining options including Publico, an Italian landmark dining and entertainment destination by the waterfront.</td>\n",
       "      <td>{'general': ['outdoor pool', 'business center', 'childcare', 'parking', 'bar', 'dry cleaning', 'wifi', 'breakfast', 'concierge'], 'room': ['aircon', 'minibar', 'tv', 'bathtub', 'hair dryer']}</td>\n",
       "      <td>{'rooms': [{'link': 'https://d2ey9sqrvkqdfs.cloudfront.net/Sjym/i93_m.jpg', 'description': 'Double room'}, {'link': 'https://d2ey9sqrvkqdfs.cloudfront.net/Sjym/i94_m.jpg', 'description': 'Bathroom'}], 'site': [{'link': 'https://d2ey9sqrvkqdfs.cloudfront.net/Sjym/i1_m.jpg', 'description': 'Restaurant'}, {'link': 'https://d2ey9sqrvkqdfs.cloudfront.net/Sjym/i2_m.jpg', 'description': 'Hotel Exterior'}, {'link': 'https://d2ey9sqrvkqdfs.cloudfront.net/Sjym/i5_m.jpg', 'description': 'Entrance'}, {'link': 'https://d2ey9sqrvkqdfs.cloudfront.net/Sjym/i24_m.jpg', 'description': 'Bar'}]}</td>\n",
       "      <td>[]</td>\n",
       "      <td>1 Nanson Rd, Singapore 238909</td>\n",
       "      <td>Singapore</td>\n",
       "    </tr>\n",
       "    <tr>\n",
       "      <th>2</th>\n",
       "      <td>f8c9</td>\n",
       "      <td>1122</td>\n",
       "      <td>Hilton Tokyo</td>\n",
       "      <td>{'address': '160-0023, SHINJUKU-KU, 6-6-2 NISHI-SHINJUKU, JAPAN', 'country': 'Japan'}</td>\n",
       "      <td>This sleek high-rise property is 10 minutes' walk from Shinjuku train station, 6 minutes' walk from the Tokyo Metropolitan Government Building and 3 km from Yoyogi Park. The polished rooms offer Wi-Fi and flat-screen TVs, plus minibars, sitting areas, and tea and coffeemaking facilities. Suites add living rooms, and access to a club lounge serving breakfast and cocktails. A free shuttle to Shinjuku station is offered. There's a chic Chinese restaurant, a sushi bar, and a grill restaurant with an open kitchen, as well as an English pub and a hip cocktail lounge. Other amenities include a gym, rooftop tennis courts, and a spa with an indoor pool.</td>\n",
       "      <td>{'general': ['indoor pool', 'business center', 'wifi'], 'room': ['tv', 'aircon', 'minibar', 'bathtub', 'hair dryer']}</td>\n",
       "      <td>{'rooms': [{'link': 'https://d2ey9sqrvkqdfs.cloudfront.net/YwAr/i1_m.jpg', 'description': 'Suite'}, {'link': 'https://d2ey9sqrvkqdfs.cloudfront.net/YwAr/i15_m.jpg', 'description': 'Double room'}], 'site': [{'link': 'https://d2ey9sqrvkqdfs.cloudfront.net/YwAr/i55_m.jpg', 'description': 'Bar'}]}</td>\n",
       "      <td>[All children are welcome. One child under 6 years stays free of charge when using existing beds. There is no capacity for extra beds in the room., Pets are not allowed., Wired internet is available in the hotel rooms and charges are applicable. WiFi is available in the hotel rooms and charges are applicable., Private parking is possible on site (reservation is not needed) and costs JPY 1500 per day., When booking more than 9 rooms, different policies and additional supplements may apply., The hotel's free shuttle is offered from Bus Stop #21 in front of Keio Department Store at Shinjuku Station. It is available every 20-minutes from 08:20-21:40. The hotel's free shuttle is offered from the hotel to Shinjuku Train Station. It is available every 20-minutes from 08:12-21:52. For more details, please contact the hotel directly. At the Executive Lounge a smart casual dress code is strongly recommended. Attires mentioned below are strongly discouraged and may not permitted: - Night attire (slippers, Yukata robe, etc.) - Gym clothes/sportswear (Tank tops, shorts, etc.) - Beachwear (flip-flops, sandals, etc.) and visible tattoos. Please note that due to renovation works, the Executive Lounge will be closed from 03 January 2019 until late April 2019. During this period, guests may experience some noise or minor disturbances. Smoking preference is subject to availability and cannot be guaranteed.]</td>\n",
       "      <td>160-0023, SHINJUKU-KU, 6-6-2 NISHI-SHINJUKU, JAPAN</td>\n",
       "      <td>Japan</td>\n",
       "    </tr>\n",
       "  </tbody>\n",
       "</table>\n",
       "</div>"
      ],
      "text/plain": [
       "  hotel_id  destination_id              hotel_name  \\\n",
       "0     iJhz            5432  Beach Villas Singapore   \n",
       "1     SjyX            5432        InterContinental   \n",
       "2     f8c9            1122            Hilton Tokyo   \n",
       "\n",
       "                                                                                location  \\\n",
       "0         {'address': '8 Sentosa Gateway, Beach Villas, 098269', 'country': 'Singapore'}   \n",
       "1                   {'address': '1 Nanson Rd, Singapore 238909', 'country': 'Singapore'}   \n",
       "2  {'address': '160-0023, SHINJUKU-KU, 6-6-2 NISHI-SHINJUKU, JAPAN', 'country': 'Japan'}   \n",
       "\n",
       "                                                                                                                                                                                                                                                                                                                                                                                                                                                                                                                                                                                                                                                                    description  \\\n",
       "0     Surrounded by tropical gardens, these upscale villas in elegant Colonial-style buildings are part of the Resorts World Sentosa complex and a 2-minute walk from the Waterfront train station. Featuring sundecks and pool, garden or sea views, the plush 1- to 3-bedroom villas offer free Wi-Fi and flat-screens, as well as free-standing baths, minibars, and tea and coffeemaking facilities. Upgraded villas add private pools, fridges and microwaves; some have wine cellars. A 4-bedroom unit offers a kitchen and a living room. There's 24-hour room and butler service. Amenities include posh restaurant, plus an outdoor pool, a hot tub, and free parking.   \n",
       "1                               InterContinental Singapore Robertson Quay is luxury's preferred address offering stylishly cosmopolitan riverside living for discerning travelers to Singapore. Prominently situated along the Singapore River, the 225-room inspiring luxury hotel is easily accessible to the Marina Bay Financial District, Central Business District, Orchard Road and Singapore Changi International Airport, all located a short drive away. The hotel features the latest in Club InterContinental design and service experience, and five dining options including Publico, an Italian landmark dining and entertainment destination by the waterfront.   \n",
       "2  This sleek high-rise property is 10 minutes' walk from Shinjuku train station, 6 minutes' walk from the Tokyo Metropolitan Government Building and 3 km from Yoyogi Park. The polished rooms offer Wi-Fi and flat-screen TVs, plus minibars, sitting areas, and tea and coffeemaking facilities. Suites add living rooms, and access to a club lounge serving breakfast and cocktails. A free shuttle to Shinjuku station is offered. There's a chic Chinese restaurant, a sushi bar, and a grill restaurant with an open kitchen, as well as an English pub and a hip cocktail lounge. Other amenities include a gym, rooftop tennis courts, and a spa with an indoor pool.   \n",
       "\n",
       "                                                                                                                                                                                         amenities  \\\n",
       "0                                                   {'general': ['outdoor pool', 'indoor pool', 'business center', 'childcare'], 'room': ['tv', 'coffee machine', 'kettle', 'hair dryer', 'iron']}   \n",
       "1  {'general': ['outdoor pool', 'business center', 'childcare', 'parking', 'bar', 'dry cleaning', 'wifi', 'breakfast', 'concierge'], 'room': ['aircon', 'minibar', 'tv', 'bathtub', 'hair dryer']}   \n",
       "2                                                                            {'general': ['indoor pool', 'business center', 'wifi'], 'room': ['tv', 'aircon', 'minibar', 'bathtub', 'hair dryer']}   \n",
       "\n",
       "                                                                                                                                                                                                                                                                                                                                                                                                                                                                                                                                                                                                   images  \\\n",
       "0                                                                                                                                                                                                                                                                                                     {'rooms': [{'link': 'https://d2ey9sqrvkqdfs.cloudfront.net/0qZF/2.jpg', 'description': 'Double room'}, {'link': 'https://d2ey9sqrvkqdfs.cloudfront.net/0qZF/3.jpg', 'description': 'Double room'}], 'site': [{'link': 'https://d2ey9sqrvkqdfs.cloudfront.net/0qZF/1.jpg', 'description': 'Front'}]}   \n",
       "1  {'rooms': [{'link': 'https://d2ey9sqrvkqdfs.cloudfront.net/Sjym/i93_m.jpg', 'description': 'Double room'}, {'link': 'https://d2ey9sqrvkqdfs.cloudfront.net/Sjym/i94_m.jpg', 'description': 'Bathroom'}], 'site': [{'link': 'https://d2ey9sqrvkqdfs.cloudfront.net/Sjym/i1_m.jpg', 'description': 'Restaurant'}, {'link': 'https://d2ey9sqrvkqdfs.cloudfront.net/Sjym/i2_m.jpg', 'description': 'Hotel Exterior'}, {'link': 'https://d2ey9sqrvkqdfs.cloudfront.net/Sjym/i5_m.jpg', 'description': 'Entrance'}, {'link': 'https://d2ey9sqrvkqdfs.cloudfront.net/Sjym/i24_m.jpg', 'description': 'Bar'}]}   \n",
       "2                                                                                                                                                                                                                                                                                                  {'rooms': [{'link': 'https://d2ey9sqrvkqdfs.cloudfront.net/YwAr/i1_m.jpg', 'description': 'Suite'}, {'link': 'https://d2ey9sqrvkqdfs.cloudfront.net/YwAr/i15_m.jpg', 'description': 'Double room'}], 'site': [{'link': 'https://d2ey9sqrvkqdfs.cloudfront.net/YwAr/i55_m.jpg', 'description': 'Bar'}]}   \n",
       "\n",
       "                                                                                                                                                                                                                                                                                                                                                                                                                                                                                                                                                                                                                                                                                                                                                                                                                                                                                                                                                                                                                                                                                                                                                                                                                                                                                                                                                                                                                                                                                                                                                                                                                                                                                                                                                                                                                                                                                                                                                                                                                                              booking_conditions  \\\n",
       "0  [All children are welcome. One child under 12 years stays free of charge when using existing beds. One child under 2 years stays free of charge in a child's cot/crib. One child under 4 years stays free of charge when using existing beds. One older child or adult is charged SGD 82.39 per person per night in an extra bed. The maximum number of children's cots/cribs in a room is 1. There is no capacity for extra beds in the room., Pets are not allowed., WiFi is available in all areas and is free of charge., Free private parking is possible on site (reservation is not needed)., Guests are required to show a photo identification and credit card upon check-in. Please note that all Special Requests are subject to availability and additional charges may apply. Payment before arrival via bank transfer is required. The property will contact you after you book to provide instructions. Please note that the full amount of the reservation is due before arrival. Resorts World Sentosa will send a confirmation with detailed payment information. After full payment is taken, the property's details, including the address and where to collect keys, will be emailed to you. Bag checks will be conducted prior to entry to Adventure Cove Waterpark. === Upon check-in, guests will be provided with complimentary Sentosa Pass (monorail) to enjoy unlimited transportation between Sentosa Island and Harbour Front (VivoCity). === Prepayment for non refundable bookings will be charged by RWS Call Centre. === All guests can enjoy complimentary parking during their stay, limited to one exit from the hotel per day. === Room reservation charges will be charged upon check-in. Credit card provided upon reservation is for guarantee purpose. === For reservations made with inclusive breakfast, please note that breakfast is applicable only for number of adults paid in the room rate. Any children or additional adults are charged separately for breakfast and are to paid directly to the hotel.]   \n",
       "1                                                                                                                                                                                                                                                                                                                                                                                                                                                                                                                                                                                                                                                                                                                                                                                                                                                                                                                                                                                                                                                                                                                                                                                                                                                                                                                                                                                                                                                                                                                                                                                                                                                                                                                                                                                                                                                                                                                                                                                                                                                             []   \n",
       "2                                                                                                                                                                                                                                                                                                                                                                                                                                                                                                                                                                                            [All children are welcome. One child under 6 years stays free of charge when using existing beds. There is no capacity for extra beds in the room., Pets are not allowed., Wired internet is available in the hotel rooms and charges are applicable. WiFi is available in the hotel rooms and charges are applicable., Private parking is possible on site (reservation is not needed) and costs JPY 1500 per day., When booking more than 9 rooms, different policies and additional supplements may apply., The hotel's free shuttle is offered from Bus Stop #21 in front of Keio Department Store at Shinjuku Station. It is available every 20-minutes from 08:20-21:40. The hotel's free shuttle is offered from the hotel to Shinjuku Train Station. It is available every 20-minutes from 08:12-21:52. For more details, please contact the hotel directly. At the Executive Lounge a smart casual dress code is strongly recommended. Attires mentioned below are strongly discouraged and may not permitted: - Night attire (slippers, Yukata robe, etc.) - Gym clothes/sportswear (Tank tops, shorts, etc.) - Beachwear (flip-flops, sandals, etc.) and visible tattoos. Please note that due to renovation works, the Executive Lounge will be closed from 03 January 2019 until late April 2019. During this period, guests may experience some noise or minor disturbances. Smoking preference is subject to availability and cannot be guaranteed.]   \n",
       "\n",
       "                                              address    country  \n",
       "0             8 Sentosa Gateway, Beach Villas, 098269  Singapore  \n",
       "1                       1 Nanson Rd, Singapore 238909  Singapore  \n",
       "2  160-0023, SHINJUKU-KU, 6-6-2 NISHI-SHINJUKU, JAPAN      Japan  "
      ]
     },
     "execution_count": 216,
     "metadata": {},
     "output_type": "execute_result"
    }
   ],
   "source": [
    "df3"
   ]
  },
  {
   "cell_type": "markdown",
   "id": "323e203a-e08a-420f-970c-71f83efd91ff",
   "metadata": {},
   "source": [
    "- description => not null, longer word count\n",
    "- lat long priority => not null, df2\n",
    "- amenities will try to combine both\n",
    "- address priority => not null, df1"
   ]
  },
  {
   "cell_type": "code",
   "execution_count": 259,
   "id": "a49a14ed-fdf3-4b7a-bf29-88f08b20a4a9",
   "metadata": {},
   "outputs": [],
   "source": [
    "df12 = pd.merge(df, df2, on=['hotel_id', 'destination_id'], how='outer', suffixes=('_df1', '_df2'))"
   ]
  },
  {
   "cell_type": "code",
   "execution_count": 260,
   "id": "b5fbb838-f4d3-4c95-8255-328bf18cd4f5",
   "metadata": {},
   "outputs": [],
   "source": [
    "# Define a function to apply custom logic\n",
    "def resolve_conflicts(row):\n",
    "    if pd.isna(row['latitude_df1']):\n",
    "        row['latitude'] = row['latitude_df2']\n",
    "    elif pd.isna(row['latitude_df2']):\n",
    "        row['latitude'] = row['latitude_df1']\n",
    "    else:\n",
    "        row['latitude'] = row['latitude_df2']\n",
    "\n",
    "    if pd.isna(row['longitude_df1']):\n",
    "        row['longitude'] = row['longitude_df2']\n",
    "    elif pd.isna(row['latitude_df2']):\n",
    "        row['longitude'] = row['longitude_df1']\n",
    "    else:\n",
    "        row['longitude'] = row['longitude_df2']\n",
    "\n",
    "    if pd.isna(row['hotel_name_df1']):\n",
    "        row['hotel_name'] = row['hotel_name_df2']\n",
    "    elif pd.isna(row['hotel_name_df2']):\n",
    "        row['hotel_name'] = row['hotel_name_df1']\n",
    "    else:\n",
    "        row['hotel_name'] = row['hotel_name_df1']\n",
    "\n",
    "    if pd.isna(row['address_df1']):\n",
    "        row['address'] = row['address_df2']\n",
    "    elif pd.isna(row['address_df2']):\n",
    "        row['address'] = row['address_df1']\n",
    "    else:\n",
    "        row['address'] = row['address_df1'] \n",
    "\n",
    "    if pd.isna(row['description_df1']):\n",
    "        row['description'] = row['description_df2']\n",
    "    elif pd.isna(row['description_df2']):\n",
    "        row['description'] = row['description_df1']\n",
    "    else:\n",
    "        if (len(row['description_df1']) > len(row['description_df2'])):\n",
    "            row['description'] = row['description_df1']\n",
    "        else:\n",
    "            row['description'] = row['description_df2']\n",
    "            \n",
    "    if pd.isna(row['amenities_df1']):\n",
    "        row['amenities'] = row['amenities_df2']\n",
    "    elif pd.isna(row['amenities_df2']):\n",
    "        row['amenities'] = row['amenities_df1']\n",
    "    else:\n",
    "        row['amenities'] = {}\n",
    "        row['amenities']['general'] = list(set(row['amenities_df1']['general'] + row['amenities_df2']['general']))\n",
    "        row['amenities']['room'] = list(set(row['amenities_df1']['room'] + row['amenities_df2']['room']))\n",
    "\n",
    "    return row"
   ]
  },
  {
   "cell_type": "code",
   "execution_count": 261,
   "id": "7670ce2a-9204-4fbd-9fd2-9ef890369dc8",
   "metadata": {},
   "outputs": [],
   "source": [
    "# Apply the function to each row\n",
    "df12 = df12.apply(resolve_conflicts, axis=1)\n",
    "df12 = df12.drop(columns=['latitude_df1', 'latitude_df2', 'longitude_df1', 'longitude_df2', 'hotel_name_df1', 'hotel_name_df2',\n",
    "                         'address_df1', 'address_df2', 'description_df1', 'description_df2', 'amenities_df1', 'amenities_df2'])"
   ]
  },
  {
   "cell_type": "code",
   "execution_count": 262,
   "id": "8a9e8ec3-afe5-4cec-8ef8-8f34d7445110",
   "metadata": {},
   "outputs": [
    {
     "data": {
      "text/html": [
       "<div>\n",
       "<style scoped>\n",
       "    .dataframe tbody tr th:only-of-type {\n",
       "        vertical-align: middle;\n",
       "    }\n",
       "\n",
       "    .dataframe tbody tr th {\n",
       "        vertical-align: top;\n",
       "    }\n",
       "\n",
       "    .dataframe thead th {\n",
       "        text-align: right;\n",
       "    }\n",
       "</style>\n",
       "<table border=\"1\" class=\"dataframe\">\n",
       "  <thead>\n",
       "    <tr style=\"text-align: right;\">\n",
       "      <th></th>\n",
       "      <th>hotel_id</th>\n",
       "      <th>destination_id</th>\n",
       "      <th>city</th>\n",
       "      <th>country</th>\n",
       "      <th>postal_code</th>\n",
       "      <th>images</th>\n",
       "      <th>latitude</th>\n",
       "      <th>longitude</th>\n",
       "      <th>hotel_name</th>\n",
       "      <th>address</th>\n",
       "      <th>description</th>\n",
       "      <th>amenities</th>\n",
       "    </tr>\n",
       "  </thead>\n",
       "  <tbody>\n",
       "    <tr>\n",
       "      <th>0</th>\n",
       "      <td>iJhz</td>\n",
       "      <td>5432</td>\n",
       "      <td>Singapore</td>\n",
       "      <td>SG</td>\n",
       "      <td>098269</td>\n",
       "      <td>{'rooms': [{'description': 'Double room', 'link': 'https://d2ey9sqrvkqdfs.cloudfront.net/0qZF/2.jpg'}, {'description': 'Bathroom', 'link': 'https://d2ey9sqrvkqdfs.cloudfront.net/0qZF/4.jpg'}], 'amenities': [{'description': 'RWS', 'link': 'https://d2ey9sqrvkqdfs.cloudfront.net/0qZF/0.jpg'}, {'description': 'Sentosa Gateway', 'link': 'https://d2ey9sqrvkqdfs.cloudfront.net/0qZF/6.jpg'}]}</td>\n",
       "      <td>1.264751</td>\n",
       "      <td>103.824006</td>\n",
       "      <td>Beach Villas Singapore</td>\n",
       "      <td>8 Sentosa Gateway, Beach Villas</td>\n",
       "      <td>Located at the western tip of Resorts World Sentosa, guests at the Beach Villas are guaranteed privacy while they enjoy spectacular views of glittering waters. Guests will find themselves in paradise with this series of exquisite tropical sanctuaries, making it the perfect setting for an idyllic retreat. Within each villa, guests will discover living areas and bedrooms that open out to mini gardens, private timber sundecks and verandahs elegantly framing either lush greenery or an expanse of sea. Guests are assured of a superior slumber with goose feather pillows and luxe mattresses paired with 400 thread count Egyptian cotton bed linen, tastefully paired with a full complement of luxurious in-room amenities and bathrooms boasting rain showers and free-standing tubs coupled with an exclusive array of ESPA amenities and toiletries. Guests also get to enjoy complimentary day access to the facilities at Asia’s flagship spa – the world-renowned ESPA.</td>\n",
       "      <td>{'general': ['wifi', 'businesscenter', 'pool', 'drycleaning', 'breakfast'], 'room': ['coffee machine', 'tub', 'tv', 'aircon', 'kettle', 'hair dryer', 'iron']}</td>\n",
       "    </tr>\n",
       "    <tr>\n",
       "      <th>1</th>\n",
       "      <td>SjyX</td>\n",
       "      <td>5432</td>\n",
       "      <td>Singapore</td>\n",
       "      <td>SG</td>\n",
       "      <td>238909</td>\n",
       "      <td>NaN</td>\n",
       "      <td>NaN</td>\n",
       "      <td>NaN</td>\n",
       "      <td>InterContinental Singapore Robertson Quay</td>\n",
       "      <td>1 Nanson Road</td>\n",
       "      <td>Enjoy sophisticated waterfront living at the new InterContinental® Singapore Robertson Quay, luxury's preferred address nestled in the heart of Robertson Quay along the Singapore River, with the CBD just five minutes drive away. Magnifying the comforts of home, each of our 225 studios and suites features a host of thoughtful amenities that combine modernity with elegance, whilst maintaining functional practicality. The hotel also features a chic, luxurious Club InterContinental Lounge.</td>\n",
       "      <td>{'general': ['pool', 'wifi', 'businesscenter', 'breakfast', 'drycleaning', 'bar'], 'room': ['aircon', 'bathtub']}</td>\n",
       "    </tr>\n",
       "    <tr>\n",
       "      <th>2</th>\n",
       "      <td>f8c9</td>\n",
       "      <td>1122</td>\n",
       "      <td>Tokyo</td>\n",
       "      <td>JP</td>\n",
       "      <td>160-0023</td>\n",
       "      <td>{'rooms': [{'description': 'Suite', 'link': 'https://d2ey9sqrvkqdfs.cloudfront.net/YwAr/i10_m.jpg'}, {'description': 'Suite - Living room', 'link': 'https://d2ey9sqrvkqdfs.cloudfront.net/YwAr/i11_m.jpg'}], 'amenities': [{'description': 'Bar', 'link': 'https://d2ey9sqrvkqdfs.cloudfront.net/YwAr/i57_m.jpg'}]}</td>\n",
       "      <td>35.692600</td>\n",
       "      <td>139.690965</td>\n",
       "      <td>Hilton Shinjuku Tokyo</td>\n",
       "      <td>160-0023, SHINJUKU-KU, 6-6-2 NISHI-SHINJUKU, JAPAN</td>\n",
       "      <td>Hilton Tokyo is located in Shinjuku, the heart of Tokyo's business, shopping and entertainment district, and is an ideal place to experience modern Japan. A complimentary shuttle operates between the hotel and Shinjuku station and the Tokyo Metro subway is connected to the hotel. Relax in one of the modern Japanese-style rooms and admire stunning city views. The hotel offers WiFi and internet access throughout all rooms and public space.</td>\n",
       "      <td>{'general': ['wifi', 'businesscenter', 'pool', 'drycleaning', 'breakfast', 'bar'], 'room': ['bathtub']}</td>\n",
       "    </tr>\n",
       "  </tbody>\n",
       "</table>\n",
       "</div>"
      ],
      "text/plain": [
       "  hotel_id  destination_id       city country postal_code  \\\n",
       "0     iJhz            5432  Singapore      SG      098269   \n",
       "1     SjyX            5432  Singapore      SG      238909   \n",
       "2     f8c9            1122      Tokyo      JP    160-0023   \n",
       "\n",
       "                                                                                                                                                                                                                                                                                                                                                                                                images  \\\n",
       "0  {'rooms': [{'description': 'Double room', 'link': 'https://d2ey9sqrvkqdfs.cloudfront.net/0qZF/2.jpg'}, {'description': 'Bathroom', 'link': 'https://d2ey9sqrvkqdfs.cloudfront.net/0qZF/4.jpg'}], 'amenities': [{'description': 'RWS', 'link': 'https://d2ey9sqrvkqdfs.cloudfront.net/0qZF/0.jpg'}, {'description': 'Sentosa Gateway', 'link': 'https://d2ey9sqrvkqdfs.cloudfront.net/0qZF/6.jpg'}]}   \n",
       "1                                                                                                                                                                                                                                                                                                                                                                                                  NaN   \n",
       "2                                                                                 {'rooms': [{'description': 'Suite', 'link': 'https://d2ey9sqrvkqdfs.cloudfront.net/YwAr/i10_m.jpg'}, {'description': 'Suite - Living room', 'link': 'https://d2ey9sqrvkqdfs.cloudfront.net/YwAr/i11_m.jpg'}], 'amenities': [{'description': 'Bar', 'link': 'https://d2ey9sqrvkqdfs.cloudfront.net/YwAr/i57_m.jpg'}]}   \n",
       "\n",
       "    latitude   longitude                                 hotel_name  \\\n",
       "0   1.264751  103.824006                     Beach Villas Singapore   \n",
       "1        NaN         NaN  InterContinental Singapore Robertson Quay   \n",
       "2  35.692600  139.690965                      Hilton Shinjuku Tokyo   \n",
       "\n",
       "                                              address  \\\n",
       "0                    8 Sentosa Gateway, Beach Villas    \n",
       "1                                       1 Nanson Road   \n",
       "2  160-0023, SHINJUKU-KU, 6-6-2 NISHI-SHINJUKU, JAPAN   \n",
       "\n",
       "                                                                                                                                                                                                                                                                                                                                                                                                                                                                                                                                                                                                                                                                                                                                                                                                                                                                                                                                                                                        description  \\\n",
       "0  Located at the western tip of Resorts World Sentosa, guests at the Beach Villas are guaranteed privacy while they enjoy spectacular views of glittering waters. Guests will find themselves in paradise with this series of exquisite tropical sanctuaries, making it the perfect setting for an idyllic retreat. Within each villa, guests will discover living areas and bedrooms that open out to mini gardens, private timber sundecks and verandahs elegantly framing either lush greenery or an expanse of sea. Guests are assured of a superior slumber with goose feather pillows and luxe mattresses paired with 400 thread count Egyptian cotton bed linen, tastefully paired with a full complement of luxurious in-room amenities and bathrooms boasting rain showers and free-standing tubs coupled with an exclusive array of ESPA amenities and toiletries. Guests also get to enjoy complimentary day access to the facilities at Asia’s flagship spa – the world-renowned ESPA.   \n",
       "1                                                                                                                                                                                                                                                                                                                                                                                                                                                                                        Enjoy sophisticated waterfront living at the new InterContinental® Singapore Robertson Quay, luxury's preferred address nestled in the heart of Robertson Quay along the Singapore River, with the CBD just five minutes drive away. Magnifying the comforts of home, each of our 225 studios and suites features a host of thoughtful amenities that combine modernity with elegance, whilst maintaining functional practicality. The hotel also features a chic, luxurious Club InterContinental Lounge.   \n",
       "2                                                                                                                                                                                                                                                                                                                                                                                                                                                                                                                                         Hilton Tokyo is located in Shinjuku, the heart of Tokyo's business, shopping and entertainment district, and is an ideal place to experience modern Japan. A complimentary shuttle operates between the hotel and Shinjuku station and the Tokyo Metro subway is connected to the hotel. Relax in one of the modern Japanese-style rooms and admire stunning city views. The hotel offers WiFi and internet access throughout all rooms and public space.   \n",
       "\n",
       "                                                                                                                                                        amenities  \n",
       "0  {'general': ['wifi', 'businesscenter', 'pool', 'drycleaning', 'breakfast'], 'room': ['coffee machine', 'tub', 'tv', 'aircon', 'kettle', 'hair dryer', 'iron']}  \n",
       "1                                               {'general': ['pool', 'wifi', 'businesscenter', 'breakfast', 'drycleaning', 'bar'], 'room': ['aircon', 'bathtub']}  \n",
       "2                                                         {'general': ['wifi', 'businesscenter', 'pool', 'drycleaning', 'breakfast', 'bar'], 'room': ['bathtub']}  "
      ]
     },
     "execution_count": 262,
     "metadata": {},
     "output_type": "execute_result"
    }
   ],
   "source": [
    "df12"
   ]
  },
  {
   "cell_type": "code",
   "execution_count": null,
   "id": "79935cd7-65b2-45ac-bed7-0921a0041507",
   "metadata": {},
   "outputs": [],
   "source": []
  },
  {
   "cell_type": "code",
   "execution_count": null,
   "id": "58c57009-ecfd-46c6-918d-936a623fc4de",
   "metadata": {},
   "outputs": [],
   "source": []
  },
  {
   "cell_type": "code",
   "execution_count": 312,
   "id": "cfae1960-307b-4237-82fd-14544e41be2f",
   "metadata": {},
   "outputs": [],
   "source": [
    "df123 = pd.merge(df12, df3, on=['hotel_id', 'destination_id'], how='outer', suffixes=('_df12', '_df3'))"
   ]
  },
  {
   "cell_type": "code",
   "execution_count": 313,
   "id": "32b517e7-5b5d-453a-a298-55017ce3dc49",
   "metadata": {},
   "outputs": [],
   "source": [
    "# Define a function to apply custom logic\n",
    "def resolve_conflicts2(row):\n",
    "    if pd.isna(row['country_df12']):\n",
    "        row['country'] = row['country_df3']\n",
    "    elif pd.isna(row['country_df3']):\n",
    "        row['country'] = row['country_df12']\n",
    "    else:\n",
    "        row['country'] = row['country_df12']\n",
    "\n",
    "    if pd.isna(row['hotel_name_df12']):\n",
    "        row['hotel_name'] = row['hotel_name_df3']\n",
    "    elif pd.isna(row['hotel_name_df3']):\n",
    "        row['hotel_name'] = row['hotel_name_df12']\n",
    "    else:\n",
    "        row['hotel_name'] = row['hotel_name_df12']\n",
    "\n",
    "    if pd.isna(row['address_df12']):\n",
    "        row['address'] = row['address_df3']\n",
    "    elif pd.isna(row['address_df3']):\n",
    "        row['address'] = row['address_df12']\n",
    "    else:\n",
    "        row['address'] = row['address_df12'] \n",
    "\n",
    "    if pd.isna(row['description_df12']):\n",
    "        row['description'] = row['description_df3']\n",
    "    elif pd.isna(row['description_df3']):\n",
    "        row['description'] = row['description_df12']\n",
    "    else:\n",
    "        if (len(row['description_df12']) > len(row['description_df3'])):\n",
    "            row['description'] = row['description_df12']\n",
    "        else:\n",
    "            row['description'] = row['description_df3']\n",
    "            \n",
    "    if pd.isna(row['amenities_df12']):\n",
    "        row['amenities'] = row['amenities_df3']\n",
    "    elif pd.isna(row['amenities_df3']):\n",
    "        row['amenities'] = row['amenities_df12']\n",
    "    else:\n",
    "        row['amenities'] = {}\n",
    "        row['amenities']['general'] = list(set(row['amenities_df12']['general'] + row['amenities_df3']['general']))\n",
    "        row['amenities']['room'] = list(set(row['amenities_df12']['room'] + row['amenities_df3']['room']))\n",
    "\n",
    "    if pd.isna(row['images_df12']):\n",
    "        row['images'] = row['images_df3']\n",
    "    elif pd.isna(row['images_df3']):\n",
    "        row['images'] = row['images_df12']\n",
    "    else:\n",
    "        row['images'] = {}\n",
    "        for k in ['site', 'amenities', 'rooms']:\n",
    "            s = set()\n",
    "            if k in row['images_df12']:\n",
    "                for d in row['images_df12'][k]:\n",
    "                    s.add(tuple(sorted(d.items())))\n",
    "            if k in row['images_df3']:\n",
    "                for d in row['images_df3'][k]:\n",
    "                    s.add(tuple(sorted(d.items())))\n",
    "\n",
    "            row['images'][k] = [dict(t) for t in s]\n",
    "        \n",
    "    return row"
   ]
  },
  {
   "cell_type": "code",
   "execution_count": 314,
   "id": "e63015f4-be98-4370-bba2-ca888c5febf9",
   "metadata": {},
   "outputs": [],
   "source": [
    "# Apply the function to each row\n",
    "df123 = df123.apply(resolve_conflicts2, axis=1)\n",
    "df123 = df123.drop(columns=['country_df12', 'country_df3', 'location', 'description_df12', 'description_df3'\n",
    "                           ,'amenities_df12', 'amenities_df3', 'address_df12', 'address_df3', 'hotel_name_df12', 'hotel_name_df3'\n",
    "                           ,'images_df12', 'images_df3'])"
   ]
  },
  {
   "cell_type": "code",
   "execution_count": 315,
   "id": "5a4ce7e5-9455-4ff8-bece-a492c662c3c9",
   "metadata": {},
   "outputs": [
    {
     "data": {
      "text/plain": [
       "Index(['hotel_id', 'destination_id', 'city', 'postal_code', 'latitude',\n",
       "       'longitude', 'booking_conditions', 'country', 'hotel_name', 'address',\n",
       "       'description', 'amenities', 'images'],\n",
       "      dtype='object')"
      ]
     },
     "execution_count": 315,
     "metadata": {},
     "output_type": "execute_result"
    }
   ],
   "source": [
    "df123.columns"
   ]
  },
  {
   "cell_type": "code",
   "execution_count": 328,
   "id": "a30aebb0-1668-48d9-9291-397ac291d5ba",
   "metadata": {},
   "outputs": [
    {
     "data": {
      "text/html": [
       "<div>\n",
       "<style scoped>\n",
       "    .dataframe tbody tr th:only-of-type {\n",
       "        vertical-align: middle;\n",
       "    }\n",
       "\n",
       "    .dataframe tbody tr th {\n",
       "        vertical-align: top;\n",
       "    }\n",
       "\n",
       "    .dataframe thead th {\n",
       "        text-align: right;\n",
       "    }\n",
       "</style>\n",
       "<table border=\"1\" class=\"dataframe\">\n",
       "  <thead>\n",
       "    <tr style=\"text-align: right;\">\n",
       "      <th></th>\n",
       "      <th>hotel_id</th>\n",
       "      <th>destination_id</th>\n",
       "      <th>city</th>\n",
       "      <th>postal_code</th>\n",
       "      <th>latitude</th>\n",
       "      <th>longitude</th>\n",
       "      <th>booking_conditions</th>\n",
       "      <th>country</th>\n",
       "      <th>hotel_name</th>\n",
       "      <th>address</th>\n",
       "      <th>description</th>\n",
       "      <th>amenities</th>\n",
       "      <th>images</th>\n",
       "    </tr>\n",
       "  </thead>\n",
       "  <tbody>\n",
       "    <tr>\n",
       "      <th>0</th>\n",
       "      <td>iJhz</td>\n",
       "      <td>5432</td>\n",
       "      <td>Singapore</td>\n",
       "      <td>098269</td>\n",
       "      <td>1.264751</td>\n",
       "      <td>103.824006</td>\n",
       "      <td>[\"All children are welcome. One child under 12 years stays free of charge when using existing beds. One child under 2 years stays free of charge in a child's cot/crib. One child under 4 years stays free of charge when using existing beds. One older child or adult is charged SGD 82.39 per person per night in an extra bed. The maximum number of children's cots/cribs in a room is 1. There is no capacity for extra beds in the room.\", \"Pets are not allowed.\", \"WiFi is available in all areas and is free of charge.\", \"Free private parking is possible on site (reservation is not needed).\", \"Guests are required to show a photo identification and credit card upon check-in. Please note that all Special Requests are subject to availability and additional charges may apply. Payment before arrival via bank transfer is required. The property will contact you after you book to provide instructions. Please note that the full amount of the reservation is due before arrival. Resorts World Sentosa will send a confirmation with detailed payment information. After full payment is taken, the property's details, including the address and where to collect keys, will be emailed to you. Bag checks will be conducted prior to entry to Adventure Cove Waterpark. === Upon check-in, guests will be provided with complimentary Sentosa Pass (monorail) to enjoy unlimited transportation between Sentosa Island and Harbour Front (VivoCity). === Prepayment for non refundable bookings will be charged by RWS Call Centre. === All guests can enjoy complimentary parking during their stay, limited to one exit from the hotel per day. === Room reservation charges will be charged upon check-in. Credit card provided upon reservation is for guarantee purpose. === For reservations made with inclusive breakfast, please note that breakfast is applicable only for number of adults paid in the room rate. Any children or additional adults are charged separately for breakfast and are to paid directly to the hotel.\"]</td>\n",
       "      <td>SG</td>\n",
       "      <td>Beach Villas Singapore</td>\n",
       "      <td>8 Sentosa Gateway, Beach Villas</td>\n",
       "      <td>Located at the western tip of Resorts World Sentosa, guests at the Beach Villas are guaranteed privacy while they enjoy spectacular views of glittering waters. Guests will find themselves in paradise with this series of exquisite tropical sanctuaries, making it the perfect setting for an idyllic retreat. Within each villa, guests will discover living areas and bedrooms that open out to mini gardens, private timber sundecks and verandahs elegantly framing either lush greenery or an expanse of sea. Guests are assured of a superior slumber with goose feather pillows and luxe mattresses paired with 400 thread count Egyptian cotton bed linen, tastefully paired with a full complement of luxurious in-room amenities and bathrooms boasting rain showers and free-standing tubs coupled with an exclusive array of ESPA amenities and toiletries. Guests also get to enjoy complimentary day access to the facilities at Asia’s flagship spa – the world-renowned ESPA.</td>\n",
       "      <td>{\"general\": [\"business center\", \"wifi\", \"businesscenter\", \"childcare\", \"pool\", \"drycleaning\", \"breakfast\", \"outdoor pool\", \"indoor pool\"], \"room\": [\"coffee machine\", \"tub\", \"tv\", \"aircon\", \"kettle\", \"hair dryer\", \"iron\"]}</td>\n",
       "      <td>{\"site\": [{\"description\": \"Front\", \"link\": \"https://d2ey9sqrvkqdfs.cloudfront.net/0qZF/1.jpg\"}], \"amenities\": [{\"description\": \"RWS\", \"link\": \"https://d2ey9sqrvkqdfs.cloudfront.net/0qZF/0.jpg\"}, {\"description\": \"Sentosa Gateway\", \"link\": \"https://d2ey9sqrvkqdfs.cloudfront.net/0qZF/6.jpg\"}], \"rooms\": [{\"description\": \"Double room\", \"link\": \"https://d2ey9sqrvkqdfs.cloudfront.net/0qZF/3.jpg\"}, {\"description\": \"Double room\", \"link\": \"https://d2ey9sqrvkqdfs.cloudfront.net/0qZF/2.jpg\"}, {\"description\": \"Bathroom\", \"link\": \"https://d2ey9sqrvkqdfs.cloudfront.net/0qZF/4.jpg\"}]}</td>\n",
       "    </tr>\n",
       "    <tr>\n",
       "      <th>1</th>\n",
       "      <td>SjyX</td>\n",
       "      <td>5432</td>\n",
       "      <td>Singapore</td>\n",
       "      <td>238909</td>\n",
       "      <td>NaN</td>\n",
       "      <td>NaN</td>\n",
       "      <td>[]</td>\n",
       "      <td>SG</td>\n",
       "      <td>InterContinental Singapore Robertson Quay</td>\n",
       "      <td>1 Nanson Road</td>\n",
       "      <td>InterContinental Singapore Robertson Quay is luxury's preferred address offering stylishly cosmopolitan riverside living for discerning travelers to Singapore. Prominently situated along the Singapore River, the 225-room inspiring luxury hotel is easily accessible to the Marina Bay Financial District, Central Business District, Orchard Road and Singapore Changi International Airport, all located a short drive away. The hotel features the latest in Club InterContinental design and service experience, and five dining options including Publico, an Italian landmark dining and entertainment destination by the waterfront.</td>\n",
       "      <td>{\"general\": [\"parking\", \"dry cleaning\", \"business center\", \"wifi\", \"businesscenter\", \"childcare\", \"pool\", \"drycleaning\", \"concierge\", \"breakfast\", \"bar\", \"outdoor pool\"], \"room\": [\"tv\", \"aircon\", \"minibar\", \"bathtub\", \"hair dryer\"]}</td>\n",
       "      <td>{\"rooms\": [{\"link\": \"https://d2ey9sqrvkqdfs.cloudfront.net/Sjym/i93_m.jpg\", \"description\": \"Double room\"}, {\"link\": \"https://d2ey9sqrvkqdfs.cloudfront.net/Sjym/i94_m.jpg\", \"description\": \"Bathroom\"}], \"site\": [{\"link\": \"https://d2ey9sqrvkqdfs.cloudfront.net/Sjym/i1_m.jpg\", \"description\": \"Restaurant\"}, {\"link\": \"https://d2ey9sqrvkqdfs.cloudfront.net/Sjym/i2_m.jpg\", \"description\": \"Hotel Exterior\"}, {\"link\": \"https://d2ey9sqrvkqdfs.cloudfront.net/Sjym/i5_m.jpg\", \"description\": \"Entrance\"}, {\"link\": \"https://d2ey9sqrvkqdfs.cloudfront.net/Sjym/i24_m.jpg\", \"description\": \"Bar\"}]}</td>\n",
       "    </tr>\n",
       "    <tr>\n",
       "      <th>2</th>\n",
       "      <td>f8c9</td>\n",
       "      <td>1122</td>\n",
       "      <td>Tokyo</td>\n",
       "      <td>160-0023</td>\n",
       "      <td>35.692600</td>\n",
       "      <td>139.690965</td>\n",
       "      <td>[\"All children are welcome. One child under 6 years stays free of charge when using existing beds. There is no capacity for extra beds in the room.\", \"Pets are not allowed.\", \"Wired internet is available in the hotel rooms and charges are applicable. WiFi is available in the hotel rooms and charges are applicable.\", \"Private parking is possible on site (reservation is not needed) and costs JPY 1500 per day.\", \"When booking more than 9 rooms, different policies and additional supplements may apply.\", \"The hotel's free shuttle is offered from Bus Stop #21 in front of Keio Department Store at Shinjuku Station. It is available every 20-minutes from 08:20-21:40. The hotel's free shuttle is offered from the hotel to Shinjuku Train Station. It is available every 20-minutes from 08:12-21:52. For more details, please contact the hotel directly. At the Executive Lounge a smart casual dress code is strongly recommended. Attires mentioned below are strongly discouraged and may not permitted: - Night attire (slippers, Yukata robe, etc.) - Gym clothes/sportswear (Tank tops, shorts, etc.) - Beachwear (flip-flops, sandals, etc.) and visible tattoos. Please note that due to renovation works, the Executive Lounge will be closed from 03 January 2019 until late April 2019. During this period, guests may experience some noise or minor disturbances. Smoking preference is subject to availability and cannot be guaranteed.\"]</td>\n",
       "      <td>JP</td>\n",
       "      <td>Hilton Shinjuku Tokyo</td>\n",
       "      <td>160-0023, SHINJUKU-KU, 6-6-2 NISHI-SHINJUKU, JAPAN</td>\n",
       "      <td>This sleek high-rise property is 10 minutes' walk from Shinjuku train station, 6 minutes' walk from the Tokyo Metropolitan Government Building and 3 km from Yoyogi Park. The polished rooms offer Wi-Fi and flat-screen TVs, plus minibars, sitting areas, and tea and coffeemaking facilities. Suites add living rooms, and access to a club lounge serving breakfast and cocktails. A free shuttle to Shinjuku station is offered. There's a chic Chinese restaurant, a sushi bar, and a grill restaurant with an open kitchen, as well as an English pub and a hip cocktail lounge. Other amenities include a gym, rooftop tennis courts, and a spa with an indoor pool.</td>\n",
       "      <td>{\"general\": [\"business center\", \"wifi\", \"businesscenter\", \"pool\", \"drycleaning\", \"breakfast\", \"bar\", \"indoor pool\"], \"room\": [\"tv\", \"aircon\", \"minibar\", \"bathtub\", \"hair dryer\"]}</td>\n",
       "      <td>{\"site\": [{\"description\": \"Bar\", \"link\": \"https://d2ey9sqrvkqdfs.cloudfront.net/YwAr/i55_m.jpg\"}], \"amenities\": [{\"description\": \"Bar\", \"link\": \"https://d2ey9sqrvkqdfs.cloudfront.net/YwAr/i57_m.jpg\"}], \"rooms\": [{\"description\": \"Suite\", \"link\": \"https://d2ey9sqrvkqdfs.cloudfront.net/YwAr/i10_m.jpg\"}, {\"description\": \"Suite - Living room\", \"link\": \"https://d2ey9sqrvkqdfs.cloudfront.net/YwAr/i11_m.jpg\"}, {\"description\": \"Double room\", \"link\": \"https://d2ey9sqrvkqdfs.cloudfront.net/YwAr/i15_m.jpg\"}, {\"description\": \"Suite\", \"link\": \"https://d2ey9sqrvkqdfs.cloudfront.net/YwAr/i1_m.jpg\"}]}</td>\n",
       "    </tr>\n",
       "  </tbody>\n",
       "</table>\n",
       "</div>"
      ],
      "text/plain": [
       "  hotel_id  destination_id       city postal_code   latitude   longitude  \\\n",
       "0     iJhz            5432  Singapore      098269   1.264751  103.824006   \n",
       "1     SjyX            5432  Singapore      238909        NaN         NaN   \n",
       "2     f8c9            1122      Tokyo    160-0023  35.692600  139.690965   \n",
       "\n",
       "                                                                                                                                                                                                                                                                                                                                                                                                                                                                                                                                                                                                                                                                                                                                                                                                                                                                                                                                                                                                                                                                                                                                                                                                                                                                                                                                                                                                                                                                                                                                                                                                                                                                                                                                                                                                                                                                                                                                                                                                                                                        booking_conditions  \\\n",
       "0  [\"All children are welcome. One child under 12 years stays free of charge when using existing beds. One child under 2 years stays free of charge in a child's cot/crib. One child under 4 years stays free of charge when using existing beds. One older child or adult is charged SGD 82.39 per person per night in an extra bed. The maximum number of children's cots/cribs in a room is 1. There is no capacity for extra beds in the room.\", \"Pets are not allowed.\", \"WiFi is available in all areas and is free of charge.\", \"Free private parking is possible on site (reservation is not needed).\", \"Guests are required to show a photo identification and credit card upon check-in. Please note that all Special Requests are subject to availability and additional charges may apply. Payment before arrival via bank transfer is required. The property will contact you after you book to provide instructions. Please note that the full amount of the reservation is due before arrival. Resorts World Sentosa will send a confirmation with detailed payment information. After full payment is taken, the property's details, including the address and where to collect keys, will be emailed to you. Bag checks will be conducted prior to entry to Adventure Cove Waterpark. === Upon check-in, guests will be provided with complimentary Sentosa Pass (monorail) to enjoy unlimited transportation between Sentosa Island and Harbour Front (VivoCity). === Prepayment for non refundable bookings will be charged by RWS Call Centre. === All guests can enjoy complimentary parking during their stay, limited to one exit from the hotel per day. === Room reservation charges will be charged upon check-in. Credit card provided upon reservation is for guarantee purpose. === For reservations made with inclusive breakfast, please note that breakfast is applicable only for number of adults paid in the room rate. Any children or additional adults are charged separately for breakfast and are to paid directly to the hotel.\"]   \n",
       "1                                                                                                                                                                                                                                                                                                                                                                                                                                                                                                                                                                                                                                                                                                                                                                                                                                                                                                                                                                                                                                                                                                                                                                                                                                                                                                                                                                                                                                                                                                                                                                                                                                                                                                                                                                                                                                                                                                                                                                                                                                                                       []   \n",
       "2                                                                                                                                                                                                                                                                                                                                                                                                                                                                                                                                                                                          [\"All children are welcome. One child under 6 years stays free of charge when using existing beds. There is no capacity for extra beds in the room.\", \"Pets are not allowed.\", \"Wired internet is available in the hotel rooms and charges are applicable. WiFi is available in the hotel rooms and charges are applicable.\", \"Private parking is possible on site (reservation is not needed) and costs JPY 1500 per day.\", \"When booking more than 9 rooms, different policies and additional supplements may apply.\", \"The hotel's free shuttle is offered from Bus Stop #21 in front of Keio Department Store at Shinjuku Station. It is available every 20-minutes from 08:20-21:40. The hotel's free shuttle is offered from the hotel to Shinjuku Train Station. It is available every 20-minutes from 08:12-21:52. For more details, please contact the hotel directly. At the Executive Lounge a smart casual dress code is strongly recommended. Attires mentioned below are strongly discouraged and may not permitted: - Night attire (slippers, Yukata robe, etc.) - Gym clothes/sportswear (Tank tops, shorts, etc.) - Beachwear (flip-flops, sandals, etc.) and visible tattoos. Please note that due to renovation works, the Executive Lounge will be closed from 03 January 2019 until late April 2019. During this period, guests may experience some noise or minor disturbances. Smoking preference is subject to availability and cannot be guaranteed.\"]   \n",
       "\n",
       "  country                                 hotel_name  \\\n",
       "0      SG                     Beach Villas Singapore   \n",
       "1      SG  InterContinental Singapore Robertson Quay   \n",
       "2      JP                      Hilton Shinjuku Tokyo   \n",
       "\n",
       "                                              address  \\\n",
       "0                    8 Sentosa Gateway, Beach Villas    \n",
       "1                                       1 Nanson Road   \n",
       "2  160-0023, SHINJUKU-KU, 6-6-2 NISHI-SHINJUKU, JAPAN   \n",
       "\n",
       "                                                                                                                                                                                                                                                                                                                                                                                                                                                                                                                                                                                                                                                                                                                                                                                                                                                                                                                                                                                        description  \\\n",
       "0  Located at the western tip of Resorts World Sentosa, guests at the Beach Villas are guaranteed privacy while they enjoy spectacular views of glittering waters. Guests will find themselves in paradise with this series of exquisite tropical sanctuaries, making it the perfect setting for an idyllic retreat. Within each villa, guests will discover living areas and bedrooms that open out to mini gardens, private timber sundecks and verandahs elegantly framing either lush greenery or an expanse of sea. Guests are assured of a superior slumber with goose feather pillows and luxe mattresses paired with 400 thread count Egyptian cotton bed linen, tastefully paired with a full complement of luxurious in-room amenities and bathrooms boasting rain showers and free-standing tubs coupled with an exclusive array of ESPA amenities and toiletries. Guests also get to enjoy complimentary day access to the facilities at Asia’s flagship spa – the world-renowned ESPA.   \n",
       "1                                                                                                                                                                                                                                                                                                                                                   InterContinental Singapore Robertson Quay is luxury's preferred address offering stylishly cosmopolitan riverside living for discerning travelers to Singapore. Prominently situated along the Singapore River, the 225-room inspiring luxury hotel is easily accessible to the Marina Bay Financial District, Central Business District, Orchard Road and Singapore Changi International Airport, all located a short drive away. The hotel features the latest in Club InterContinental design and service experience, and five dining options including Publico, an Italian landmark dining and entertainment destination by the waterfront.   \n",
       "2                                                                                                                                                                                                                                                                                                                      This sleek high-rise property is 10 minutes' walk from Shinjuku train station, 6 minutes' walk from the Tokyo Metropolitan Government Building and 3 km from Yoyogi Park. The polished rooms offer Wi-Fi and flat-screen TVs, plus minibars, sitting areas, and tea and coffeemaking facilities. Suites add living rooms, and access to a club lounge serving breakfast and cocktails. A free shuttle to Shinjuku station is offered. There's a chic Chinese restaurant, a sushi bar, and a grill restaurant with an open kitchen, as well as an English pub and a hip cocktail lounge. Other amenities include a gym, rooftop tennis courts, and a spa with an indoor pool.   \n",
       "\n",
       "                                                                                                                                                                                                                                  amenities  \\\n",
       "0             {\"general\": [\"business center\", \"wifi\", \"businesscenter\", \"childcare\", \"pool\", \"drycleaning\", \"breakfast\", \"outdoor pool\", \"indoor pool\"], \"room\": [\"coffee machine\", \"tub\", \"tv\", \"aircon\", \"kettle\", \"hair dryer\", \"iron\"]}   \n",
       "1  {\"general\": [\"parking\", \"dry cleaning\", \"business center\", \"wifi\", \"businesscenter\", \"childcare\", \"pool\", \"drycleaning\", \"concierge\", \"breakfast\", \"bar\", \"outdoor pool\"], \"room\": [\"tv\", \"aircon\", \"minibar\", \"bathtub\", \"hair dryer\"]}   \n",
       "2                                                        {\"general\": [\"business center\", \"wifi\", \"businesscenter\", \"pool\", \"drycleaning\", \"breakfast\", \"bar\", \"indoor pool\"], \"room\": [\"tv\", \"aircon\", \"minibar\", \"bathtub\", \"hair dryer\"]}   \n",
       "\n",
       "                                                                                                                                                                                                                                                                                                                                                                                                                                                                                                                                                                                                            images  \n",
       "0                  {\"site\": [{\"description\": \"Front\", \"link\": \"https://d2ey9sqrvkqdfs.cloudfront.net/0qZF/1.jpg\"}], \"amenities\": [{\"description\": \"RWS\", \"link\": \"https://d2ey9sqrvkqdfs.cloudfront.net/0qZF/0.jpg\"}, {\"description\": \"Sentosa Gateway\", \"link\": \"https://d2ey9sqrvkqdfs.cloudfront.net/0qZF/6.jpg\"}], \"rooms\": [{\"description\": \"Double room\", \"link\": \"https://d2ey9sqrvkqdfs.cloudfront.net/0qZF/3.jpg\"}, {\"description\": \"Double room\", \"link\": \"https://d2ey9sqrvkqdfs.cloudfront.net/0qZF/2.jpg\"}, {\"description\": \"Bathroom\", \"link\": \"https://d2ey9sqrvkqdfs.cloudfront.net/0qZF/4.jpg\"}]}  \n",
       "1           {\"rooms\": [{\"link\": \"https://d2ey9sqrvkqdfs.cloudfront.net/Sjym/i93_m.jpg\", \"description\": \"Double room\"}, {\"link\": \"https://d2ey9sqrvkqdfs.cloudfront.net/Sjym/i94_m.jpg\", \"description\": \"Bathroom\"}], \"site\": [{\"link\": \"https://d2ey9sqrvkqdfs.cloudfront.net/Sjym/i1_m.jpg\", \"description\": \"Restaurant\"}, {\"link\": \"https://d2ey9sqrvkqdfs.cloudfront.net/Sjym/i2_m.jpg\", \"description\": \"Hotel Exterior\"}, {\"link\": \"https://d2ey9sqrvkqdfs.cloudfront.net/Sjym/i5_m.jpg\", \"description\": \"Entrance\"}, {\"link\": \"https://d2ey9sqrvkqdfs.cloudfront.net/Sjym/i24_m.jpg\", \"description\": \"Bar\"}]}  \n",
       "2  {\"site\": [{\"description\": \"Bar\", \"link\": \"https://d2ey9sqrvkqdfs.cloudfront.net/YwAr/i55_m.jpg\"}], \"amenities\": [{\"description\": \"Bar\", \"link\": \"https://d2ey9sqrvkqdfs.cloudfront.net/YwAr/i57_m.jpg\"}], \"rooms\": [{\"description\": \"Suite\", \"link\": \"https://d2ey9sqrvkqdfs.cloudfront.net/YwAr/i10_m.jpg\"}, {\"description\": \"Suite - Living room\", \"link\": \"https://d2ey9sqrvkqdfs.cloudfront.net/YwAr/i11_m.jpg\"}, {\"description\": \"Double room\", \"link\": \"https://d2ey9sqrvkqdfs.cloudfront.net/YwAr/i15_m.jpg\"}, {\"description\": \"Suite\", \"link\": \"https://d2ey9sqrvkqdfs.cloudfront.net/YwAr/i1_m.jpg\"}]}  "
      ]
     },
     "execution_count": 328,
     "metadata": {},
     "output_type": "execute_result"
    }
   ],
   "source": [
    "df123"
   ]
  },
  {
   "cell_type": "code",
   "execution_count": 327,
   "id": "10869340-8fd8-4c80-ba3e-dfcf5a39bec0",
   "metadata": {},
   "outputs": [],
   "source": [
    "df123.booking_conditions = df123.booking_conditions.apply(json.dumps)\n",
    "df123.amenities = df123.amenities.apply(json.dumps)\n",
    "df123.images = df123.images.apply(json.dumps)"
   ]
  },
  {
   "cell_type": "code",
   "execution_count": null,
   "id": "e17e5a60-c979-465a-8312-d6a7cbd4c180",
   "metadata": {},
   "outputs": [],
   "source": []
  },
  {
   "cell_type": "code",
   "execution_count": null,
   "id": "7a5cac1e-6ce0-4372-9b7a-ecf8b7912174",
   "metadata": {},
   "outputs": [],
   "source": []
  },
  {
   "cell_type": "code",
   "execution_count": 331,
   "id": "e66d85ab-a03d-4f42-a7bd-fc7e50b2c695",
   "metadata": {},
   "outputs": [
    {
     "name": "stdout",
     "output_type": "stream",
     "text": [
      "DataFrame saved to MySQL table successfully.\n"
     ]
    }
   ],
   "source": [
    "from sqlalchemy import create_engine\n",
    "\n",
    "# MySQL database connection details\n",
    "username = 'root'\n",
    "password = 'password'\n",
    "host = 'localhost'\n",
    "port = '3307'\n",
    "database = 'mysql'\n",
    "\n",
    "# Create a connection to the database\n",
    "connection_string = f'mysql+pymysql://{username}:{password}@{host}:{port}/{database}'\n",
    "engine = create_engine(connection_string)\n",
    "\n",
    "# Write the DataFrame to a MySQL table\n",
    "table_name = 'hotels'\n",
    "\n",
    "df123.to_sql(table_name, engine, if_exists='replace', index=False)\n",
    "print(\"DataFrame saved to MySQL table successfully.\")"
   ]
  },
  {
   "cell_type": "code",
   "execution_count": null,
   "id": "3f3efca5-9c4d-4ca8-b8d3-93c6850810e1",
   "metadata": {},
   "outputs": [],
   "source": []
  },
  {
   "cell_type": "code",
   "execution_count": null,
   "id": "a7f71635-f894-49a1-8028-d32dacc4033e",
   "metadata": {},
   "outputs": [],
   "source": []
  },
  {
   "cell_type": "code",
   "execution_count": null,
   "id": "14402fbb-4700-4f18-8fb7-b61ad3943f2e",
   "metadata": {},
   "outputs": [],
   "source": []
  },
  {
   "cell_type": "code",
   "execution_count": null,
   "id": "2e5a6af5-d5f5-4bef-9546-1e1d487e602b",
   "metadata": {},
   "outputs": [],
   "source": []
  },
  {
   "cell_type": "code",
   "execution_count": null,
   "id": "4daf074a-2f06-487d-8a54-0ec0623329b4",
   "metadata": {},
   "outputs": [],
   "source": []
  },
  {
   "cell_type": "code",
   "execution_count": null,
   "id": "c6caa9af-b747-4101-9e3a-29bdeb088223",
   "metadata": {},
   "outputs": [],
   "source": []
  },
  {
   "cell_type": "code",
   "execution_count": 217,
   "id": "e1562f4f-f8c5-4293-b30b-6aa8ee6cfff0",
   "metadata": {},
   "outputs": [
    {
     "data": {
      "text/plain": [
       "Index(['hotel_id', 'destination_id', 'hotel_name', 'latitude', 'longitude',\n",
       "       'address', 'city', 'country', 'postal_code', 'description',\n",
       "       'amenities'],\n",
       "      dtype='object')"
      ]
     },
     "execution_count": 217,
     "metadata": {},
     "output_type": "execute_result"
    }
   ],
   "source": [
    "df.columns"
   ]
  },
  {
   "cell_type": "code",
   "execution_count": 218,
   "id": "e11a36c7-c5b6-4342-be97-ccd3a3319db6",
   "metadata": {},
   "outputs": [
    {
     "data": {
      "text/plain": [
       "Index(['hotel_id', 'destination_id', 'hotel_name', 'latitude', 'longitude',\n",
       "       'address', 'description', 'amenities', 'images'],\n",
       "      dtype='object')"
      ]
     },
     "execution_count": 218,
     "metadata": {},
     "output_type": "execute_result"
    }
   ],
   "source": [
    "df2.columns"
   ]
  },
  {
   "cell_type": "code",
   "execution_count": 219,
   "id": "0e97f759-8db1-4942-8a17-0ad1185f078f",
   "metadata": {},
   "outputs": [
    {
     "data": {
      "text/plain": [
       "Index(['hotel_id', 'destination_id', 'hotel_name', 'location', 'description',\n",
       "       'amenities', 'images', 'booking_conditions', 'address', 'country'],\n",
       "      dtype='object')"
      ]
     },
     "execution_count": 219,
     "metadata": {},
     "output_type": "execute_result"
    }
   ],
   "source": [
    "df3.columns"
   ]
  },
  {
   "cell_type": "code",
   "execution_count": null,
   "id": "4b3d144f-c0b2-4864-b3be-e4e0f8c64ecd",
   "metadata": {},
   "outputs": [],
   "source": []
  }
 ],
 "metadata": {
  "kernelspec": {
   "display_name": "Python 3 (ipykernel)",
   "language": "python",
   "name": "python3"
  },
  "language_info": {
   "codemirror_mode": {
    "name": "ipython",
    "version": 3
   },
   "file_extension": ".py",
   "mimetype": "text/x-python",
   "name": "python",
   "nbconvert_exporter": "python",
   "pygments_lexer": "ipython3",
   "version": "3.11.7"
  }
 },
 "nbformat": 4,
 "nbformat_minor": 5
}
